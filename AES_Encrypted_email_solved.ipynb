{
  "nbformat": 4,
  "nbformat_minor": 0,
  "metadata": {
    "kernelspec": {
      "display_name": "Python 3",
      "language": "python",
      "name": "python3"
    },
    "language_info": {
      "codemirror_mode": {
        "name": "ipython",
        "version": 3
      },
      "file_extension": ".py",
      "mimetype": "text/x-python",
      "name": "python",
      "nbconvert_exporter": "python",
      "pygments_lexer": "ipython3",
      "version": "3.6.3"
    },
    "colab": {
      "name": "AES-Encrypted-email-solved.ipynb",
      "version": "0.3.2",
      "provenance": [],
      "include_colab_link": true
    }
  },
  "cells": [
    {
      "cell_type": "markdown",
      "metadata": {
        "id": "view-in-github",
        "colab_type": "text"
      },
      "source": [
        "<a href=\"https://colab.research.google.com/github/nasim-aust/Simple-Interview-Task-2019/blob/master/AES_Encrypted_email_solved.ipynb\" target=\"_parent\"><img src=\"https://colab.research.google.com/assets/colab-badge.svg\" alt=\"Open In Colab\"/></a>"
      ]
    },
    {
      "cell_type": "code",
      "metadata": {
        "id": "pJOOElS34uWt",
        "colab_type": "code",
        "colab": {},
        "outputId": "dfac94ca-db9a-44b7-ca1e-e979132cfcae"
      },
      "source": [
        "import base64\n",
        "import hashlib\n",
        "from Crypto.Cipher import AES\n",
        "from Crypto import Random\n",
        "message = b'3Jgrnid0Y+JrqsxpWZ0q3w3UqpH6GEy4Fh27thLMUM0A82fHf2D6sl7AboKFcyOA'.decode('utf-8')\n",
        "BS = 16\n",
        "pad = lambda s: s + (BS - len(s) % BS) * chr(BS - len(s) % BS) \n",
        "unpad = lambda s : s[:-ord(s[len(s)-1:])]\n",
        "class AESCipher:\n",
        "    def __init__( self, key ):\n",
        "        self.key = key\n",
        "\n",
        "    def encrypt( self, raw ):\n",
        "        raw = pad(raw)\n",
        "        iv = Random.new().read( AES.block_size )\n",
        "        cipher = AES.new( self.key, AES.MODE_CBC, iv )\n",
        "        return base64.b64encode( iv + cipher.encrypt( raw ) ) \n",
        "\n",
        "    def decrypt( self, enc ):\n",
        "        enc = base64.b64decode(enc)\n",
        "        iv = enc[:16]\n",
        "        cipher = AES.new(self.key, AES.MODE_CBC, iv )\n",
        "        return unpad(cipher.decrypt( enc[16:] ))\n",
        "a = AESCipher(hashlib.sha256('a1b2c3d4e5f6g7h8'.encode('utf-8')).digest())\n",
        "a.decrypt(message)"
      ],
      "execution_count": 0,
      "outputs": [
        {
          "output_type": "execute_result",
          "data": {
            "text/plain": [
              "b'bipul.khan@circlefintech.com'"
            ]
          },
          "metadata": {
            "tags": []
          },
          "execution_count": 1
        }
      ]
    },
    {
      "cell_type": "code",
      "metadata": {
        "id": "Ln8nhVHY4uW0",
        "colab_type": "code",
        "colab": {}
      },
      "source": [
        ""
      ],
      "execution_count": 0,
      "outputs": []
    }
  ]
}